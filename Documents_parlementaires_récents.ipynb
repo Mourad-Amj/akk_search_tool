{
 "cells": [
  {
   "cell_type": "code",
   "execution_count": 217,
   "metadata": {},
   "outputs": [],
   "source": [
    "import requests\n",
    "from bs4 import BeautifulSoup as bs\n",
    "\n",
    "ROOT_URL = \"https://www.lachambre.be/kvvcr/showpage.cfm?section=/flwb/recent&language=fr&cfm=/site/wwwcfm/flwb/rapweekweekly.cfm?week=4\"\n",
    "LINK_PREFIX = \"https://www.lachambre.be/kvvcr/\""
   ]
  },
  {
   "cell_type": "code",
   "execution_count": null,
   "metadata": {},
   "outputs": [],
   "source": [
    "response = requests.get(ROOT_URL)\n",
    "soup = bs(response.text, \"html.parser\")\n",
    "print(soup)"
   ]
  },
  {
   "cell_type": "code",
   "execution_count": null,
   "metadata": {},
   "outputs": [],
   "source": [
    "links = soup.select(\"a[href*=dossierID]\")\n",
    "print(links)"
   ]
  },
  {
   "cell_type": "code",
   "execution_count": null,
   "metadata": {},
   "outputs": [],
   "source": [
    "urls_list = []\n",
    "\n",
    "for link in links:\n",
    "    if link.findChild(\"img\"):\n",
    "        continue\n",
    "\n",
    "    href_value = link.attrs.get(\"href\")\n",
    "\n",
    "    final_url = f\"{LINK_PREFIX}{href_value}\"\n",
    "    urls_list.append(final_url)\n",
    "print(urls_list)"
   ]
  },
  {
   "cell_type": "code",
   "execution_count": null,
   "metadata": {},
   "outputs": [],
   "source": [
    "merci_maxim = []\n",
    "for url in urls_list:\n",
    "    response2 = requests.get(url)\n",
    "    soup2 = bs(response2.text, \"html.parser\")\n",
    "\n",
    "    document_number = soup2.find(\"center\")\n",
    "    document = document_number.text.strip()\n",
    "\n",
    "    finding_title = soup2.find_all(\"center\")\n",
    "    title = finding_title[1].text.strip()\n",
    "\n",
    "    finding_date = soup2.find_all(\"td\", attrs=\"td0x\")\n",
    "    date = finding_date[2].text.strip()\n",
    "\n",
    "    hello = document + title + date\n",
    "    merci_maxim.append(hello)\n",
    "print(merci_maxim)"
   ]
  },
  {
   "cell_type": "code",
   "execution_count": null,
   "metadata": {},
   "outputs": [],
   "source": [
    "url = urls_list[0]\n",
    "print(url)\n",
    "response2 = requests.get(url)\n",
    "soup2 = bs(response2.text, \"html.parser\")\n",
    "print(soup2)"
   ]
  },
  {
   "cell_type": "code",
   "execution_count": null,
   "metadata": {},
   "outputs": [],
   "source": [
    "document_number = soup2.find(\"center\")\n",
    "document = document_number.text.strip()\n",
    "print(document)"
   ]
  },
  {
   "cell_type": "code",
   "execution_count": null,
   "metadata": {},
   "outputs": [],
   "source": [
    "finding_title = soup2.find_all(\"center\")\n",
    "title = finding_title[1].text.strip()\n",
    "print(title)"
   ]
  },
  {
   "cell_type": "code",
   "execution_count": null,
   "metadata": {},
   "outputs": [],
   "source": [
    "finding_date = soup2.find_all(\"td\", attrs=\"td0x\")\n",
    "print(finding_date[2].text.strip())"
   ]
  },
  {
   "cell_type": "code",
   "execution_count": 261,
   "metadata": {},
   "outputs": [
    {
     "data": {
      "text/plain": [
       "'http://www.lachambre.be/FLWB/PDF/55/2319/55K2319001.pdf'"
      ]
     },
     "execution_count": 261,
     "metadata": {},
     "output_type": "execute_result"
    }
   ],
   "source": [
    "finding_pdf = soup2.select(\"a[href*=lachambre]\")\n",
    "pdf_cleansing = finding_pdf[0]\n",
    "pdf = pdf_cleansing.attrs.get(\"href\")\n",
    "pdf\n"
   ]
  }
 ],
 "metadata": {
  "kernelspec": {
   "display_name": ".env",
   "language": "python",
   "name": "python3"
  },
  "language_info": {
   "codemirror_mode": {
    "name": "ipython",
    "version": 3
   },
   "file_extension": ".py",
   "mimetype": "text/x-python",
   "name": "python",
   "nbconvert_exporter": "python",
   "pygments_lexer": "ipython3",
   "version": "3.11.4"
  },
  "orig_nbformat": 4
 },
 "nbformat": 4,
 "nbformat_minor": 2
}
