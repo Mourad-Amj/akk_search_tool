{
 "cells": [
  {
   "cell_type": "code",
   "execution_count": 1,
   "metadata": {},
   "outputs": [],
   "source": [
    "import pandas as pd\n",
    "\n",
    "file_name = \"Testfile.xlsx\"\n",
    "sheet_name = \"Summary\"\n"
   ]
  },
  {
   "cell_type": "code",
   "execution_count": 22,
   "metadata": {},
   "outputs": [
    {
     "name": "stdout",
     "output_type": "stream",
     "text": [
      "5\n"
     ]
    }
   ],
   "source": [
    "df_dict_1 = {\n",
    "    'onderwerp': ['School', 'Kwaliteit'],\n",
    "    'Bron' : ['Vlaams', 'Vlaams'],\n",
    "    'Brontype': ['Plenaire', 'Plenaire'],\n",
    "    'Kwestie': ['De sterke toename van ', 'Bespreking van het ontwerp van decreet over leersteun'],\n",
    "    'Opmerkingen' : ['link1', 'link2']\n",
    "}\n",
    "df_dict_2 = {\n",
    "    'onderwerp': ['Kwaliteit', 'Kwaliteit'],\n",
    "    'Bron' : ['Vlaams', 'Vlaams'],\n",
    "    'Brontype': ['Plenaire', 'Website'],\n",
    "    'Kwestie': ['De plenaire vergadering bespreekt het ontwerp.', 'De plenaire vergadering bespreekt het ontwerp.'],\n",
    "    'Opmerkingen' : ['link3', 'link4']\n",
    "}\n",
    "df1 = pd.DataFrame(df_dict_1)\n",
    "df2 = pd.DataFrame(df_dict_2)\n",
    "\n",
    "print(df1.shape[1])\n"
   ]
  },
  {
   "cell_type": "code",
   "execution_count": 27,
   "metadata": {},
   "outputs": [
    {
     "name": "stdout",
     "output_type": "stream",
     "text": [
      "C12\n"
     ]
    }
   ],
   "source": [
    "def convert_row_col( row, col):\n",
    "    return f'{chr(64+col)}{row}'\n",
    "\n",
    "print(convert_row_col(12, 3))"
   ]
  },
  {
   "cell_type": "code",
   "execution_count": 12,
   "metadata": {},
   "outputs": [],
   "source": [
    "writer = pd.ExcelWriter(file_name)\n",
    "df1.to_excel(writer, sheet_name=sheet_name, startrow = 2, index = False)"
   ]
  },
  {
   "cell_type": "code",
   "execution_count": 14,
   "metadata": {},
   "outputs": [],
   "source": [
    "%pwd\n",
    "with pd.ExcelWriter('output2.xlsx') as writer: \n",
    "    df1.to_excel(writer, sheet_name='Sheet_name_1', startrow = 2, index = False)  "
   ]
  },
  {
   "cell_type": "code",
   "execution_count": 18,
   "metadata": {},
   "outputs": [],
   "source": [
    "with pd.ExcelWriter('output2.xlsx', engine=\"openpyxl\",\n",
    "                    mode='a', if_sheet_exists='replace') as writer:  \n",
    "    df2.to_excel(writer, sheet_name='Sheet_name_1')"
   ]
  },
  {
   "cell_type": "code",
   "execution_count": 20,
   "metadata": {},
   "outputs": [],
   "source": [
    "offset = 2\n",
    "\n",
    "with pd.ExcelWriter('output2.xlsx') as writer: \n",
    "    df1.to_excel(writer, sheet_name='Sheet_name_1', startrow = offset, index = False)\n",
    "    df2.to_excel(writer, sheet_name='Sheet_name_1', startrow = offset + len(df1) + offset, index = False)  "
   ]
  }
 ],
 "metadata": {
  "kernelspec": {
   "display_name": "venv",
   "language": "python",
   "name": "python3"
  },
  "language_info": {
   "codemirror_mode": {
    "name": "ipython",
    "version": 3
   },
   "file_extension": ".py",
   "mimetype": "text/x-python",
   "name": "python",
   "nbconvert_exporter": "python",
   "pygments_lexer": "ipython3",
   "version": "3.10.12"
  },
  "orig_nbformat": 4
 },
 "nbformat": 4,
 "nbformat_minor": 2
}
