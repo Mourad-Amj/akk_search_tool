{
 "cells": [
  {
   "cell_type": "code",
   "execution_count": 57,
   "metadata": {},
   "outputs": [],
   "source": [
    "import requests\n",
    "import json\n",
    "from bs4 import BeautifulSoup as bs\n",
    "import json\n",
    "import pandas as pd\n"
   ]
  },
  {
   "cell_type": "code",
   "execution_count": 58,
   "metadata": {},
   "outputs": [],
   "source": [
    "def get_soup (url:str):\n",
    "    response = requests.get(url)\n",
    "    return bs(response.content, \"html.parser\")"
   ]
  },
  {
   "cell_type": "code",
   "execution_count": null,
   "metadata": {},
   "outputs": [],
   "source": [
    "\n",
    "url = 'https://www.lachambre.be/kvvcr/showpage.cfm?section=/flwb&language=fr&cfm=ListDocument.cfm'\n",
    "base_url ='https://www.lachambre.be/kvvcr/'\n",
    "\n",
    "soup = get_soup(url)\n",
    "\n",
    "group_links = soup.find_all('a', attrs={'class':'link'})\n",
    "\n",
    "document_urls = [base_url + link['href'] for link in group_links]\n",
    "document_urls \n",
    "\n"
   ]
  },
  {
   "cell_type": "code",
   "execution_count": 61,
   "metadata": {},
   "outputs": [],
   "source": [
    "result_list = []\n",
    "for document_url in document_urls:\n",
    "    url_soup = get_soup(document_url)\n",
    "    table = url_soup.find('table')\n",
    "    document_links = table.find_all('a')\n",
    "    documents = [base_url + link['href'] for link in document_links]  \n",
    "    for document in documents:\n",
    "        document_soup = get_soup(document)\n",
    "        document_dict = {}\n",
    "        section = document_soup.find('div',attrs={'id':'Story'})\n",
    "       \n",
    "        document_dict['first_title'] = section.find('h3').text.strip()   \n",
    "        document_dict['document_number'] =  document_dict['first_title'][-4:]   \n",
    "        document_dict[\"document_page_url\"] = document\n",
    "        document_dict['main_title'] = section.find('h4').text.strip()        \n",
    "        document_table = section.find('table')        \n",
    "        for rows in document_table.select('tr'):\n",
    "            cells = rows.find_all('td', recursive=False)\n",
    "            for cell in cells:\n",
    "                if cell.find('table'):              \n",
    "                    cell.decompose()\n",
    "                    continue                    \n",
    "                header = \"\".join(cells[0].text.split())\n",
    "                content = \"\".join(cells[1].text.split())                \n",
    "            if header == 'DocumentChambre':\n",
    "                try:\n",
    "                    document_dict[header] = rows.find('a').get('href')\n",
    "                except:\n",
    "                    document_dict[header] = content\n",
    "            else:\n",
    "                document_dict[header] = content\n",
    "        result_list.append(document_dict)        \n",
    "                \n"
   ]
  },
  {
   "cell_type": "code",
   "execution_count": null,
   "metadata": {},
   "outputs": [],
   "source": [
    "result_list"
   ]
  },
  {
   "cell_type": "code",
   "execution_count": 63,
   "metadata": {},
   "outputs": [],
   "source": [
    "import json\n",
    "with open('apercu_complet', 'w') as fout:\n",
    "    json.dump(result_list, fout)"
   ]
  }
 ],
 "metadata": {
  "kernelspec": {
   "display_name": "Python 3",
   "language": "python",
   "name": "python3"
  },
  "language_info": {
   "codemirror_mode": {
    "name": "ipython",
    "version": 3
   },
   "file_extension": ".py",
   "mimetype": "text/x-python",
   "name": "python",
   "nbconvert_exporter": "python",
   "pygments_lexer": "ipython3",
   "version": "3.11.3"
  },
  "orig_nbformat": 4
 },
 "nbformat": 4,
 "nbformat_minor": 2
}
