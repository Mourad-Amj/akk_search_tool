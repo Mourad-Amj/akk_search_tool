{
 "cells": [
  {
   "cell_type": "code",
   "execution_count": 49,
   "metadata": {},
   "outputs": [],
   "source": [
    "import pdfplumber\n",
    "from pdfminer.high_level import extract_text\n",
    "\n",
    "import io\n",
    "import requests\n",
    "import re\n",
    "\n",
    "import pandas as pd"
   ]
  },
  {
   "cell_type": "code",
   "execution_count": 19,
   "metadata": {},
   "outputs": [],
   "source": [
    "doc_parlement = \"https://www.lachambre.be/FLWB/PDF/55/3197/55K3197001.pdf\" \n",
    "doc2 = \"http://www.lachambre.be/FLWB/PDF/55/3509/55K3509001.pdf\"\n",
    "doc3 = \"http://www.lachambre.be/FLWB/PDF/55/2894/55K2894001.pdf\"\n",
    "doc4 = \"http://www.lachambre.be/FLWB/PDF/55/2092/55K2092001.pdf\"\n",
    "plenary_doc = \"\" # 3- Séances Plénières integral - Maciej\n",
    "com_integral = \"\" # 4- Commissions integral - Mourad\n",
    "bulletin = \"\" # 5- Bulletins des questions et réponses écrites - Ramina\n",
    "rapport = \"\" # 6- Rapports déposés en exécution d'une loi - Sarkis"
   ]
  },
  {
   "cell_type": "code",
   "execution_count": 131,
   "metadata": {},
   "outputs": [],
   "source": [
    "def get_text(url):\n",
    "    rq = requests.get(url)\n",
    "    left_column_text_all_pages = \"\"\n",
    "    right_column_text_all_pages = \"\"\n",
    "\n",
    "    with pdfplumber.open(io.BytesIO(rq.content)) as pdf:\n",
    "        for page in pdf.pages:\n",
    "            words = page.extract_words()\n",
    "            threshold_x = 300\n",
    "\n",
    "            left_column_words = [word for word in words if word['x0'] < threshold_x]\n",
    "            right_column_words = [word for word in words if word['x0'] >= threshold_x]\n",
    "\n",
    "            left_column_text = ' '.join([word['text'] for word in left_column_words])\n",
    "            right_column_text = ' '.join([word['text'] for word in right_column_words])\n",
    "\n",
    "            left_column_text_all_pages += left_column_text + ' '\n",
    "            right_column_text_all_pages += right_column_text + ' '\n",
    "\n",
    "            left_column_clean = re.sub(r'(?<=\\w)-(\\s)(?=\\w)', r'', left_column_text_all_pages) # remove end_line hyphens\n",
    "            left_column_clean = re.sub(r'DOC 55 \\d{4}/001', '', left_column_clean)\n",
    "            left_column_clean = re.sub(r'\\d{4}/001 DOC 55', '', left_column_clean)\n",
    "            left_column_clean = re.sub(r'CHAMBRE \\d+e SESSION DE LA 55e LÉGISLATURE \\d{4}(?: \\d+)?', '', left_column_clean)\n",
    "\n",
    "            right_column_clean = re.sub(r'(?<=\\w)-(\\s)(?=\\w)', r'', right_column_text_all_pages) # remove end_line hyphens\n",
    "            right_column_clean = re.sub(r'DOC 55 \\d{4}/001', '', right_column_clean)\n",
    "            right_column_clean = re.sub(r'\\d{4}/001 DOC 55', '', right_column_clean)\n",
    "            right_column_clean = re.sub(r'\\d{4} KAMER • \\d+e ZITTING VAN DE 55e ZITTINGSPERIODE(?: \\d+)?', '', right_column_clean)\n",
    "\n",
    "    return left_column_clean, right_column_clean\n",
    "\n",
    "    # {\"fr_pdf_text\" : left_column_text_all_pages, \"nl_pdf_text\": right_column_text_all_pages}\n",
    "    "
   ]
  },
  {
   "cell_type": "code",
   "execution_count": 118,
   "metadata": {},
   "outputs": [],
   "source": [
    "# left_column_clean, right_column_clean = get_text(doc_parlement)\n",
    "get_text(doc_parlement)[1]"
   ]
  },
  {
   "cell_type": "code",
   "execution_count": 171,
   "metadata": {},
   "outputs": [],
   "source": [
    "df = pd.read_json('apercu_complet.json').head(10)\n",
    "df_pdf_not_disponible = df[df[\"DocumentChambre\"].str.contains(\"pasdisponible\")]\n",
    "df_pdf_disponible = df[~df[\"DocumentChambre\"].str.contains(\"pasdisponible\")]"
   ]
  },
  {
   "cell_type": "code",
   "execution_count": 170,
   "metadata": {},
   "outputs": [
    {
     "name": "stdout",
     "output_type": "stream",
     "text": [
      "<class 'pandas.core.frame.DataFrame'>\n",
      "RangeIndex: 3505 entries, 0 to 3504\n",
      "Data columns (total 98 columns):\n",
      " #   Column                         Non-Null Count  Dtype  \n",
      "---  ------                         --------------  -----  \n",
      " 0   first_title                    3505 non-null   object \n",
      " 1   document_number                3505 non-null   int64  \n",
      " 2   document_page_url              3505 non-null   object \n",
      " 3   main_title                     3505 non-null   object \n",
      " 4                                  3505 non-null   object \n",
      " 5   Documentsprincipaux            3505 non-null   object \n",
      " 6   DocumentChambre                3505 non-null   object \n",
      " 7   Datededépôt                    2546 non-null   object \n",
      " 8   Typededocument                 3505 non-null   object \n",
      " 9   Datededistribution             3501 non-null   object \n",
      " 10  Dated'envoi                    2980 non-null   object \n",
      " 11  Auteur(s)                      3500 non-null   object \n",
      " 12  COMMISSIONCHAMBRE              1574 non-null   object \n",
      " 13  ArticleConstitution            2249 non-null   object \n",
      " 14  Compétence                     1888 non-null   object \n",
      " 15  Analysedesinterventions        1873 non-null   object \n",
      " 16  Annexe                         9 non-null      object \n",
      " 17  Datededépōt                    373 non-null    object \n",
      " 18  Priseenconsidération           1994 non-null   object \n",
      " 19  1.COMMISSIONCHAMBRE            1423 non-null   object \n",
      " 20  2.SEANCEPLENIERECHAMBRE        1143 non-null   object \n",
      " 21  Rapporteur                     2002 non-null   object \n",
      " 22  Calendrier                     1986 non-null   object \n",
      " 23  Incident                       756 non-null    object \n",
      " 24  DatededÈpÙt                    3 non-null      object \n",
      " 25  PriseenconsidÈration           2 non-null      object \n",
      " 26  CompÈtence                     3 non-null      object \n",
      " 27  DescripteurEurovocprincipal    3372 non-null   object \n",
      " 28  DescripteursEurovoc            3485 non-null   object \n",
      " 29  Mots-cléslibres                631 non-null    object \n",
      " 30  DatededťpŰt                    551 non-null    object \n",
      " 31  Mots-clťslibres                85 non-null     object \n",
      " 32  VoteChambre                    982 non-null    object \n",
      " 33  Datedefin                      1122 non-null   object \n",
      " 34  Statut                         1117 non-null   object \n",
      " 35  Sous-documents                 1684 non-null   object \n",
      " 36  SEANCEPLENIERECHAMBRE          41 non-null     object \n",
      " 37  Priseenconsidťration           411 non-null    object \n",
      " 38  Compťtence                     336 non-null    object \n",
      " 39  AnnexeI                        22 non-null     object \n",
      " 40  Rapport                        1027 non-null   object \n",
      " 41  Document(s)joint(s)/lié(s)     463 non-null    object \n",
      " 42  Datedelaloi                    645 non-null    object \n",
      " 43  Datemoniteur                   649 non-null    object \n",
      " 44  Moniteurn°                     489 non-null    float64\n",
      " 45  2.COMMISSIONCHAMBRE            278 non-null    object \n",
      " 46  3.SEANCEPLENIERECHAMBRE        43 non-null     object \n",
      " 47  Document(s)joint(s)/liť(s)     77 non-null     object \n",
      " 48  Moniteurnį                     136 non-null    float64\n",
      " 49  3.COMMISSIONCHAMBRE            125 non-null    object \n",
      " 50  4.SEANCEPLENIERECHAMBRE        5 non-null      object \n",
      " 51  Candidats-descripteursEurovoc  13 non-null     object \n",
      " 52  Datededķp¶t                    15 non-null     object \n",
      " 53  Priseenconsidķration           12 non-null     object \n",
      " 54  Compķtence                     13 non-null     object \n",
      " 55  4.COMMISSIONCHAMBRE            19 non-null     object \n",
      " 56  5.COMMISSIONCHAMBRE            11 non-null     object \n",
      " 57  6.COMMISSIONCHAMBRE            8 non-null      object \n",
      " 58  7.COMMISSIONCHAMBRE            8 non-null      object \n",
      " 59  8.COMMISSIONCHAMBRE            7 non-null      object \n",
      " 60  9.SEANCEPLENIERECHAMBRE        2 non-null      object \n",
      " 61  DatededÕp¶t                    16 non-null     object \n",
      " 62  CompÕtence                     5 non-null      object \n",
      " 63  DocumentSénat                  30 non-null     object \n",
      " 64  MoniteurnḞ                     12 non-null     float64\n",
      " 65  Moniteurerratum                184 non-null    object \n",
      " 66  VoteSénat                      15 non-null     object \n",
      " 67  3.SEANCEPLENIERESENAT          15 non-null     object \n",
      " 68  VoteSťnat                      6 non-null      object \n",
      " 69  DocumentSťnat                  8 non-null      object \n",
      " 70  Moniteurn░                     5 non-null      float64\n",
      " 71  6.SEANCEPLENIERECHAMBRE        3 non-null      object \n",
      " 72  AnnexeII                       5 non-null      object \n",
      " 73  Moniteurn∞                     1 non-null      float64\n",
      " 74  Document(s)joint(s)/liÈ(s)     1 non-null      object \n",
      " 75  9.COMMISSIONCHAMBRE            5 non-null      object \n",
      " 76  10.COMMISSIONCHAMBRE           4 non-null      object \n",
      " 77  11.SEANCEPLENIERECHAMBRE       4 non-null      object \n",
      " 78  Votecandidature                24 non-null     object \n",
      " 79  Moniteurn¯                     2 non-null      float64\n",
      " 80  PriseenconsidÕration           14 non-null     object \n",
      " 81  Document(s)joint(s)/liÕ(s)     3 non-null      object \n",
      " 82  10.SEANCEPLENIERECHAMBRE       1 non-null      object \n",
      " 83  2.SEANCEPLENIERESENAT          3 non-null      object \n",
      " 84  AnnexeIII                      2 non-null      object \n",
      " 85  AnnexeIV                       1 non-null      object \n",
      " 86  Document(s)joint(s)/liķ(s)     5 non-null      object \n",
      " 87  Mots-clķslibres                3 non-null      object \n",
      " 88  8.SEANCEPLENIERECHAMBRE        1 non-null      object \n",
      " 89  1.SEANCEPLENIERECHAMBRE        1 non-null      object \n",
      " 90  5.SEANCEPLENIERECHAMBRE        1 non-null      object \n",
      " 91  Mots-clÕslibres                1 non-null      object \n",
      " 92  4.SEANCEPLENIERESENAT          1 non-null      object \n",
      " 93  Annexe1                        1 non-null      object \n",
      " 94  Annexe2                        1 non-null      object \n",
      " 95  DatededÚp˘t                    1 non-null      object \n",
      " 96  PriseenconsidÚration           1 non-null      object \n",
      " 97  CompÚtence                     1 non-null      object \n",
      "dtypes: float64(6), int64(1), object(91)\n",
      "memory usage: 2.6+ MB\n"
     ]
    }
   ],
   "source": [
    "df.info()"
   ]
  },
  {
   "cell_type": "code",
   "execution_count": null,
   "metadata": {},
   "outputs": [],
   "source": [
    "# df_pdf_not_disponible[\"fr_text\"] = \"PDF not disponible\"\n",
    "# df_pdf_not_disponible[\"nl_text\"] = \"PDF not disponible\"\n",
    "df_pdf_disponible[\"fr_text\"] = df_pdf_disponible[\"DocumentChambre\"].map(lambda x: get_text(x)[0])\n",
    "df_pdf_disponible[\"nl_text\"] = df_pdf_disponible[\"DocumentChambre\"].map(lambda x: get_text(x)[1])"
   ]
  },
  {
   "cell_type": "code",
   "execution_count": 172,
   "metadata": {},
   "outputs": [],
   "source": [
    "df = pd.read_json('apercu_complet.json')\n",
    "\n",
    "def add_text_to_df(df):\n",
    "    df_pdf_not_disponible = df[df[\"DocumentChambre\"].str.contains(\"pasdisponible\")]\n",
    "    df_pdf_disponible = df[~df[\"DocumentChambre\"].str.contains(\"pasdisponible\")]\n",
    "    df_pdf_disponible[\"fr_text\"] = df_pdf_disponible[\"DocumentChambre\"].map(lambda x: get_text(x)[0])\n",
    "    df_pdf_disponible[\"nl_text\"] = df_pdf_disponible[\"DocumentChambre\"].map(lambda x: get_text(x)[1])\n",
    "    df_pdf_not_disponible[\"fr_text\"] = \"PDF not disponible\"\n",
    "    df_pdf_not_disponible[\"nl_text\"] = \"PDF not disponible\""
   ]
  },
  {
   "cell_type": "code",
   "execution_count": null,
   "metadata": {},
   "outputs": [],
   "source": [
    "# def sent_to_words(sentences):\n",
    "#     for sentence in sentences:\n",
    "#         yield(gensim.utils.simple_preprocess(str(sentence), deacc=True))"
   ]
  },
  {
   "cell_type": "code",
   "execution_count": null,
   "metadata": {},
   "outputs": [],
   "source": []
  }
 ],
 "metadata": {
  "kernelspec": {
   "display_name": "venv",
   "language": "python",
   "name": "python3"
  },
  "language_info": {
   "codemirror_mode": {
    "name": "ipython",
    "version": 3
   },
   "file_extension": ".py",
   "mimetype": "text/x-python",
   "name": "python",
   "nbconvert_exporter": "python",
   "pygments_lexer": "ipython3",
   "version": "3.11.2"
  },
  "orig_nbformat": 4
 },
 "nbformat": 4,
 "nbformat_minor": 2
}
