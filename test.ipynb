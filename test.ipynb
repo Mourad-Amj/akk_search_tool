{
 "cells": [
  {
   "cell_type": "code",
   "execution_count": null,
   "metadata": {},
   "outputs": [],
   "source": [
    "dict_fr={\"date\": \"18/07/2023\",\n",
    "      \"room\": \"Forum 4 - Salle Gabrielle Petit\",\n",
    "      \"items\" : [{\"id\": \"...\", \"url\":\"...\", \"text\": \"...\"},\n",
    "                    {\"id\" : \"3464\",\n",
    "                    \"url\" : \"https://www.dekamer.be/kvvcr/showpage.cfm?section=flwb&language=fr&cfm=flwbn.cfm?lang=N&dossierID=3464&legislat=55\"\n",
    "                    \"text\" : \"Projet de loi modifiant la loi du 21 mars 1991 portant réforme de certaines entreprises publiques économiques, n°s 3464/2 et 3. (Deuxième lecture et votes, art. 83 Rgt.).\"}]}\n",
    "dict_nl"
   ]
  },
  {
   "cell_type": "code",
   "execution_count": null,
   "metadata": {},
   "outputs": [],
   "source": [
    "import streamlit as st\n",
    "import pandas as pd\n",
    "import numpy as np\n",
    "import SessionState \n",
    "\n",
    "# https://gist.githubusercontent.com/tvst/036da038ab3e999a64497f42de966a92/raw/f0db274dd4d295ee173b4d52939be5ad55ae058d/SessionState.py\n",
    "\n",
    "# Create an empty dataframe\n",
    "data = pd.DataFrame(columns=[\"Random\"])\n",
    "st.text(\"Original dataframe\")\n",
    "\n",
    "# with every interaction, the script runs from top to bottom\n",
    "# resulting in the empty dataframe\n",
    "st.dataframe(data) \n",
    "\n",
    "# persist state of dataframe\n",
    "session_state = SessionState.get(df=data)\n",
    "\n",
    "# random value to append; could be a num_input widget if you want\n",
    "random_value = np.random.randn()\n",
    "\n",
    "if st.button(\"Append random value\"):\n",
    "    # update dataframe state\n",
    "    session_state.df = session_state.df.append({'Random': random_value}, ignore_index=True)\n",
    "    st.text(\"Updated dataframe\")\n",
    "    st.dataframe(session_state.df)\n",
    "\n",
    "# still empty as state is not persisted\n",
    "st.text(\"Original dataframe\")\n",
    "st.dataframe(data)"
   ]
  }
 ],
 "metadata": {
  "language_info": {
   "name": "python"
  },
  "orig_nbformat": 4
 },
 "nbformat": 4,
 "nbformat_minor": 2
}
