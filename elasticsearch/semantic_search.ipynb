{
 "cells": [
  {
   "cell_type": "code",
   "execution_count": 35,
   "metadata": {},
   "outputs": [],
   "source": [
    "from elasticsearch import Elasticsearch\n",
    "from transformers import BertTokenizer, BertModel\n",
    "import torch\n",
    "import json\n",
    "\n",
    "es = Elasticsearch(\n",
    "    cloud_id=\"8c25b2c39346426e8cb23b57abe7fdc7:dXMtY2VudHJhbDEuZ2NwLmNsb3VkLmVzLmlvJDVjNjdhZjUyNGZhYTQzNTlhNGJjOTlkMjMxMWI2NjczJGFjMDYyMDg3NDBlODRlMjJiMDMyYzkxM2FjNTJjOGY5\",\n",
    "    api_key=('N2duOEI0b0JkSThuM0lleVJid0o6QkllTXA5bjFSYVdmZzBla0xEWXVTQQ==')\n",
    ")"
   ]
  },
  {
   "cell_type": "code",
   "execution_count": 36,
   "metadata": {},
   "outputs": [],
   "source": [
    "tokenizer = BertTokenizer.from_pretrained('bert-base-multilingual-cased')\n",
    "model = BertModel.from_pretrained('bert-base-multilingual-cased')\n",
    "\n",
    "def get_embedding(text):\n",
    "    inputs = tokenizer(text, return_tensors=\"pt\", truncation=True, padding=True, max_length=512)\n",
    "    \n",
    "    with torch.no_grad():\n",
    "        outputs = model(**inputs)\n",
    "        embeddings = outputs.last_hidden_state.mean(dim=1)\n",
    "        \n",
    "    return embeddings.numpy()[0] "
   ]
  },
  {
   "cell_type": "code",
   "execution_count": 37,
   "metadata": {},
   "outputs": [],
   "source": [
    "with open(\"C:/Users/Mourad/Documents/Git/akk_search_tool/test.json\", \"r\", encoding=\"utf-8\") as file:\n",
    "    documents_list = json.load(file)"
   ]
  },
  {
   "cell_type": "code",
   "execution_count": 38,
   "metadata": {},
   "outputs": [
    {
     "name": "stderr",
     "output_type": "stream",
     "text": [
      "C:\\Users\\Mourad\\AppData\\Local\\Temp\\ipykernel_1152\\1312917292.py:25: DeprecationWarning: The 'body' parameter is deprecated and will be removed in a future version. Instead use the 'document' parameter. See https://github.com/elastic/elasticsearch-py/issues/1698 for more information\n",
      "  es.index(index=\"documents\", body=doc)\n"
     ]
    }
   ],
   "source": [
    "def process_and_index_documents(documents):\n",
    "    for doc in documents:\n",
    "        # Check if not empty\n",
    "        title_content = doc.get(\"first_title\", \"\") + \" \" + doc.get(\"main_title\", \"\")\n",
    "        if title_content.strip():  \n",
    "            doc[\"title_embedding\"] = get_embedding(title_content).tolist()\n",
    "\n",
    "        text_content_fr = doc.get(\"fr_text\", \"\")\n",
    "        if text_content_fr.strip():  \n",
    "            doc[\"fr_text_embedding\"] = get_embedding(text_content_fr).tolist()\n",
    "\n",
    "        text_content_nl = doc.get(\"nl_text\", \"\")\n",
    "        if text_content_nl.strip():  \n",
    "            doc[\"nl_text_embedding\"] = get_embedding(text_content_nl).tolist()\n",
    "\n",
    "        author_content = doc.get(\"Auteur(s)\", \"\")\n",
    "        if author_content.strip():  \n",
    "            doc[\"author_embedding\"] = get_embedding(author_content).tolist()\n",
    "\n",
    "        # Index the document with embeddings into Elasticsearch\n",
    "        es.index(index=\"documents\", body=doc)\n",
    "\n",
    "process_and_index_documents(documents_list)"
   ]
  },
  {
   "cell_type": "code",
   "execution_count": 39,
   "metadata": {},
   "outputs": [],
   "source": [
    "with open(\"C:/Users/Mourad/Documents/Git/akk_search_tool/test.json\", \"w\", encoding=\"utf-8\") as file:\n",
    "    json.dump(documents_list, file, ensure_ascii=False, indent=4)"
   ]
  },
  {
   "cell_type": "code",
   "execution_count": 41,
   "metadata": {},
   "outputs": [
    {
     "name": "stderr",
     "output_type": "stream",
     "text": [
      "C:\\Users\\Mourad\\AppData\\Local\\Temp\\ipykernel_1152\\2563114661.py:25: DeprecationWarning: The 'body' parameter is deprecated and will be removed in a future version. Instead use individual parameters.\n",
      "  response = es.search(index=\"documents\", body=search_query)\n"
     ]
    },
    {
     "ename": "BadRequestError",
     "evalue": "BadRequestError(400, 'search_phase_execution_exception', \"class_cast_exception: class org.elasticsearch.script.field.FloatDocValuesField cannot be cast to class org.elasticsearch.script.field.vectors.DenseVectorDocValuesField (org.elasticsearch.script.field.FloatDocValuesField and org.elasticsearch.script.field.vectors.DenseVectorDocValuesField are in module org.elasticsearch.server@8.9.1 of loader 'app')\")",
     "output_type": "error",
     "traceback": [
      "\u001b[1;31m---------------------------------------------------------------------------\u001b[0m",
      "\u001b[1;31mBadRequestError\u001b[0m                           Traceback (most recent call last)",
      "Cell \u001b[1;32mIn[41], line 32\u001b[0m\n\u001b[0;32m     29\u001b[0m query \u001b[39m=\u001b[39m \u001b[39m\"\u001b[39m\u001b[39mprojet de loi\u001b[39m\u001b[39m\"\u001b[39m\n\u001b[0;32m     30\u001b[0m fields_to_search \u001b[39m=\u001b[39m [\u001b[39m\"\u001b[39m\u001b[39mtitle_embedding\u001b[39m\u001b[39m\"\u001b[39m, \u001b[39m\"\u001b[39m\u001b[39mfr_text_embedding\u001b[39m\u001b[39m\"\u001b[39m, \u001b[39m\"\u001b[39m\u001b[39mnl_text_embedding\u001b[39m\u001b[39m\"\u001b[39m]\n\u001b[1;32m---> 32\u001b[0m results \u001b[39m=\u001b[39m semantic_search(query, fields\u001b[39m=\u001b[39;49mfields_to_search, min_score\u001b[39m=\u001b[39;49m\u001b[39m0.25\u001b[39;49m)\n\u001b[0;32m     33\u001b[0m top_hits \u001b[39m=\u001b[39m results[\u001b[39m'\u001b[39m\u001b[39mhits\u001b[39m\u001b[39m'\u001b[39m][\u001b[39m'\u001b[39m\u001b[39mhits\u001b[39m\u001b[39m'\u001b[39m]\n\u001b[0;32m     35\u001b[0m \u001b[39mprint\u001b[39m(\u001b[39m\"\u001b[39m\u001b[39mTop matched documents with a similarity score of at least 0.25:\u001b[39m\u001b[39m\"\u001b[39m)\n",
      "Cell \u001b[1;32mIn[41], line 25\u001b[0m, in \u001b[0;36msemantic_search\u001b[1;34m(query_text, fields, min_score)\u001b[0m\n\u001b[0;32m      6\u001b[0m     should_queries\u001b[39m.\u001b[39mappend({\n\u001b[0;32m      7\u001b[0m         \u001b[39m\"\u001b[39m\u001b[39mscript_score\u001b[39m\u001b[39m\"\u001b[39m: {\n\u001b[0;32m      8\u001b[0m             \u001b[39m\"\u001b[39m\u001b[39mquery\u001b[39m\u001b[39m\"\u001b[39m: {\u001b[39m\"\u001b[39m\u001b[39mmatch_all\u001b[39m\u001b[39m\"\u001b[39m: {}},\n\u001b[1;32m   (...)\u001b[0m\n\u001b[0;32m     13\u001b[0m         }\n\u001b[0;32m     14\u001b[0m     })\n\u001b[0;32m     16\u001b[0m search_query \u001b[39m=\u001b[39m {\n\u001b[0;32m     17\u001b[0m     \u001b[39m\"\u001b[39m\u001b[39mquery\u001b[39m\u001b[39m\"\u001b[39m: {\n\u001b[0;32m     18\u001b[0m         \u001b[39m\"\u001b[39m\u001b[39mbool\u001b[39m\u001b[39m\"\u001b[39m: {\n\u001b[1;32m   (...)\u001b[0m\n\u001b[0;32m     22\u001b[0m     \u001b[39m\"\u001b[39m\u001b[39mmin_score\u001b[39m\u001b[39m\"\u001b[39m: min_score\n\u001b[0;32m     23\u001b[0m }\n\u001b[1;32m---> 25\u001b[0m response \u001b[39m=\u001b[39m es\u001b[39m.\u001b[39;49msearch(index\u001b[39m=\u001b[39;49m\u001b[39m\"\u001b[39;49m\u001b[39mdocuments\u001b[39;49m\u001b[39m\"\u001b[39;49m, body\u001b[39m=\u001b[39;49msearch_query)\n\u001b[0;32m     26\u001b[0m \u001b[39mreturn\u001b[39;00m response\n",
      "File \u001b[1;32mc:\\Users\\Mourad\\Documents\\Git\\akk_search_tool\\env\\lib\\site-packages\\elasticsearch\\_sync\\client\\utils.py:414\u001b[0m, in \u001b[0;36m_rewrite_parameters.<locals>.wrapper.<locals>.wrapped\u001b[1;34m(*args, **kwargs)\u001b[0m\n\u001b[0;32m    411\u001b[0m         \u001b[39mexcept\u001b[39;00m \u001b[39mKeyError\u001b[39;00m:\n\u001b[0;32m    412\u001b[0m             \u001b[39mpass\u001b[39;00m\n\u001b[1;32m--> 414\u001b[0m \u001b[39mreturn\u001b[39;00m api(\u001b[39m*\u001b[39margs, \u001b[39m*\u001b[39m\u001b[39m*\u001b[39mkwargs)\n",
      "File \u001b[1;32mc:\\Users\\Mourad\\Documents\\Git\\akk_search_tool\\env\\lib\\site-packages\\elasticsearch\\_sync\\client\\__init__.py:3863\u001b[0m, in \u001b[0;36mElasticsearch.search\u001b[1;34m(self, index, aggregations, aggs, allow_no_indices, allow_partial_search_results, analyze_wildcard, analyzer, batched_reduce_size, ccs_minimize_roundtrips, collapse, default_operator, df, docvalue_fields, error_trace, expand_wildcards, explain, ext, fields, filter_path, from_, highlight, human, ignore_throttled, ignore_unavailable, indices_boost, knn, lenient, max_concurrent_shard_requests, min_compatible_shard_node, min_score, pit, post_filter, pre_filter_shard_size, preference, pretty, profile, q, query, rank, request_cache, rescore, rest_total_hits_as_int, routing, runtime_mappings, script_fields, scroll, search_after, search_type, seq_no_primary_term, size, slice, sort, source, source_excludes, source_includes, stats, stored_fields, suggest, suggest_field, suggest_mode, suggest_size, suggest_text, terminate_after, timeout, track_scores, track_total_hits, typed_keys, version)\u001b[0m\n\u001b[0;32m   3861\u001b[0m \u001b[39mif\u001b[39;00m __body \u001b[39mis\u001b[39;00m \u001b[39mnot\u001b[39;00m \u001b[39mNone\u001b[39;00m:\n\u001b[0;32m   3862\u001b[0m     __headers[\u001b[39m\"\u001b[39m\u001b[39mcontent-type\u001b[39m\u001b[39m\"\u001b[39m] \u001b[39m=\u001b[39m \u001b[39m\"\u001b[39m\u001b[39mapplication/json\u001b[39m\u001b[39m\"\u001b[39m\n\u001b[1;32m-> 3863\u001b[0m \u001b[39mreturn\u001b[39;00m \u001b[39mself\u001b[39;49m\u001b[39m.\u001b[39;49mperform_request(  \u001b[39m# type: ignore[return-value]\u001b[39;49;00m\n\u001b[0;32m   3864\u001b[0m     \u001b[39m\"\u001b[39;49m\u001b[39mPOST\u001b[39;49m\u001b[39m\"\u001b[39;49m, __path, params\u001b[39m=\u001b[39;49m__query, headers\u001b[39m=\u001b[39;49m__headers, body\u001b[39m=\u001b[39;49m__body\n\u001b[0;32m   3865\u001b[0m )\n",
      "File \u001b[1;32mc:\\Users\\Mourad\\Documents\\Git\\akk_search_tool\\env\\lib\\site-packages\\elasticsearch\\_sync\\client\\_base.py:320\u001b[0m, in \u001b[0;36mBaseClient.perform_request\u001b[1;34m(self, method, path, params, headers, body)\u001b[0m\n\u001b[0;32m    317\u001b[0m         \u001b[39mexcept\u001b[39;00m (\u001b[39mValueError\u001b[39;00m, \u001b[39mKeyError\u001b[39;00m, \u001b[39mTypeError\u001b[39;00m):\n\u001b[0;32m    318\u001b[0m             \u001b[39mpass\u001b[39;00m\n\u001b[1;32m--> 320\u001b[0m     \u001b[39mraise\u001b[39;00m HTTP_EXCEPTIONS\u001b[39m.\u001b[39mget(meta\u001b[39m.\u001b[39mstatus, ApiError)(\n\u001b[0;32m    321\u001b[0m         message\u001b[39m=\u001b[39mmessage, meta\u001b[39m=\u001b[39mmeta, body\u001b[39m=\u001b[39mresp_body\n\u001b[0;32m    322\u001b[0m     )\n\u001b[0;32m    324\u001b[0m \u001b[39m# 'X-Elastic-Product: Elasticsearch' should be on every 2XX response.\u001b[39;00m\n\u001b[0;32m    325\u001b[0m \u001b[39mif\u001b[39;00m \u001b[39mnot\u001b[39;00m \u001b[39mself\u001b[39m\u001b[39m.\u001b[39m_verified_elasticsearch:\n\u001b[0;32m    326\u001b[0m     \u001b[39m# If the header is set we mark the server as verified.\u001b[39;00m\n",
      "\u001b[1;31mBadRequestError\u001b[0m: BadRequestError(400, 'search_phase_execution_exception', \"class_cast_exception: class org.elasticsearch.script.field.FloatDocValuesField cannot be cast to class org.elasticsearch.script.field.vectors.DenseVectorDocValuesField (org.elasticsearch.script.field.FloatDocValuesField and org.elasticsearch.script.field.vectors.DenseVectorDocValuesField are in module org.elasticsearch.server@8.9.1 of loader 'app')\")"
     ]
    }
   ],
   "source": [
    "def semantic_search(query_text, fields=[\"title_embedding\"], min_score=0.25):\n",
    "    query_embedding = get_embedding(query_text)\n",
    "    \n",
    "    should_queries = []\n",
    "    for field in fields:\n",
    "        should_queries.append({\n",
    "            \"script_score\": {\n",
    "                \"query\": {\"match_all\": {}},\n",
    "                \"script\": {\n",
    "                    \"source\": f\"cosineSimilarity(params.query_vector, '{field}') + 1.0\",\n",
    "                    \"params\": {\"query_vector\": query_embedding.tolist()}\n",
    "                }\n",
    "            }\n",
    "        })\n",
    "    \n",
    "    search_query = {\n",
    "        \"query\": {\n",
    "            \"bool\": {\n",
    "                \"should\": should_queries\n",
    "            }\n",
    "        },\n",
    "        \"min_score\": min_score\n",
    "    }\n",
    "    \n",
    "    response = es.search(index=\"documents\", body=search_query)\n",
    "    return response\n",
    "\n",
    "\n",
    "query = \"projet de loi\"\n",
    "fields_to_search = [\"title_embedding\", \"fr_text_embedding\", \"nl_text_embedding\"]\n",
    "\n",
    "results = semantic_search(query, fields=fields_to_search, min_score=0.25)\n",
    "top_hits = results['hits']['hits']\n",
    "\n",
    "print(\"Top matched documents with a similarity score of at least 0.25:\")\n",
    "for hit in top_hits:\n",
    "    print(hit[\"_source\"][\"content\"]) \n"
   ]
  }
 ],
 "metadata": {
  "kernelspec": {
   "display_name": "env",
   "language": "python",
   "name": "python3"
  },
  "language_info": {
   "codemirror_mode": {
    "name": "ipython",
    "version": 3
   },
   "file_extension": ".py",
   "mimetype": "text/x-python",
   "name": "python",
   "nbconvert_exporter": "python",
   "pygments_lexer": "ipython3",
   "version": "3.10.11"
  },
  "orig_nbformat": 4
 },
 "nbformat": 4,
 "nbformat_minor": 2
}
